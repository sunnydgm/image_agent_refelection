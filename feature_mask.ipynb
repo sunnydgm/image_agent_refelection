{
 "cells": [
  {
   "cell_type": "code",
   "execution_count": 1,
   "id": "b92179e8-4e06-410b-86fe-fcff2ef076ad",
   "metadata": {},
   "outputs": [],
   "source": [
    "import cv2\n",
    "import numpy as np\n",
    "\n",
    "def feather_mask(mask_path, output_path, target_size=None, dilation_iterations=100, blur_kernel_size=(21, 21),kernel = np.ones((15, 15), np.uint8)):\n",
    "    \"\"\"\n",
    "    Applies dilation and Gaussian blur to feather a binary mask.\n",
    "    Optionally resizes the mask to match the target image size.\n",
    "    \"\"\"\n",
    "    mask = cv2.imread(mask_path, cv2.IMREAD_GRAYSCALE)\n",
    "    if mask is None:\n",
    "        raise FileNotFoundError(f\"Mask not found: {mask_path}\")\n",
    "\n",
    "    if target_size:\n",
    "        mask = cv2.resize(mask, target_size, interpolation=cv2.INTER_NEAREST)\n",
    "\n",
    "    #kernel = np.ones((15, 15), np.uint8)\n",
    "    mask_dilated = cv2.dilate(mask, kernel=kernel, iterations=dilation_iterations)\n",
    "    mask_blurred = cv2.GaussianBlur(mask_dilated, blur_kernel_size, sigmaX=0)\n",
    "\n",
    "    cv2.imwrite(output_path, mask_blurred)"
   ]
  },
  {
   "cell_type": "code",
   "execution_count": null,
   "id": "50cfb011-eac0-4957-83d2-ac8ec2fcaa68",
   "metadata": {},
   "outputs": [],
   "source": [
    "init_image_path = \"/Users/danma/Documents/wiseverse/code/wiseverse/image-test/image/workflow_test/styles/test_v2/background/edit_enhance_3.png\"\n",
    "    # Get image dimensions for mask resizing\n",
    "image = cv2.imread(init_image_path)\n",
    "if image is None:\n",
    "        raise FileNotFoundError(f\"Image not found: {init_image_path}\")\n",
    "h, w = image.shape[:2]\n",
    "print(h,w)\n",
    "raw_mask_path = \"/Users/danma/Documents/wiseverse/code/wiseverse/image-test/image/tesla_edit/doors_v2.png\"\n",
    "feathered_mask_path = \"/Users/danma/Documents/wiseverse/code/wiseverse/image-test/image/tesla_edit/doors_v2_feathered.png\"\n",
    "mask_dilation_iterations = 5\n",
    "mask_blur_kernel = (11, 11)\n",
    "mask_kernel_size = np.ones((11, 11), np.uint8)\n",
    "    # Feather and resize mask to match image size\n",
    "feather_mask(raw_mask_path, feathered_mask_path,\n",
    "                 target_size=(w, h),\n",
    "                 dilation_iterations=mask_dilation_iterations,\n",
    "                 blur_kernel_size=mask_blur_kernel,\n",
    "                 kernel=mask_kernel_size\n",
    "                 )\n",
    "print(f\"Feathered mask saved to {feathered_mask_path}\")"
   ]
  }
 ],
 "metadata": {
  "kernelspec": {
   "display_name": "Python 3 (ipykernel)",
   "language": "python",
   "name": "python3"
  },
  "language_info": {
   "codemirror_mode": {
    "name": "ipython",
    "version": 3
   },
   "file_extension": ".py",
   "mimetype": "text/x-python",
   "name": "python",
   "nbconvert_exporter": "python",
   "pygments_lexer": "ipython3",
   "version": "3.12.7"
  }
 },
 "nbformat": 4,
 "nbformat_minor": 5
}
